{
  "nbformat": 4,
  "nbformat_minor": 0,
  "metadata": {
    "colab": {
      "name": "Final_Shen_Stacy",
      "provenance": [],
      "collapsed_sections": []
    },
    "kernelspec": {
      "name": "python3",
      "display_name": "Python 3"
    },
    "language_info": {
      "name": "python"
    }
  },
  "cells": [
    {
      "cell_type": "markdown",
      "metadata": {
        "id": "HLZ91mmvMQyl"
      },
      "source": [
        "## **Machine Learning Final Project DUE: Friday May 7th 11:59pm**\n",
        "\n",
        "**Note: Please read all the instructions carefully before starting the project.**\n",
        "\n",
        "For your final project you will build an ML model to analyze a dataset of your choice. You are welcome to keep working on the data in your EDA project if your data is large enough (at least 1000 rows for simple models and at least 10,000 for more complex models) or you can choose from the datasets/project suggestions below.\n",
        "\n",
        "In this project make sure that you:\n",
        "- Have a large enough dataset\n",
        "- Split your data in training and testing\n",
        "- Explore your data to inform which type of model to choose (no need if you are using your EDA dataset)\n",
        "- Try different models on your training dataset - then select the most promising model\n",
        "- Use cross validation to fine tune the model’s parameters such as alpha in lasso\n",
        "- Simplify your model using regularization, prunnning, drop-out, etc. to avoid overfitting\n",
        "- Communicate your model’s performance and make sure you compare it to a benchmark when appropriate\n",
        "- Plot interesting graphs and results\n",
        "- Write and publish your article to medium\n",
        "- Commit your code to your GitHub\n",
        "\n",
        "Please ensure you handle all the preprocessing before the modeling.\n",
        "\n",
        "Suggestions for project:\n",
        "You can take a look at the resources given below for choosing a dataset for your project. \n",
        "\n",
        "- Traffic sign detection - https://benchmark.ini.rub.de/gtsdb_dataset.html\n",
        "- Cat and dog classifier - https://www.kaggle.com/c/dogs-vs-cats/data\n",
        "- Other datasets from Kaggle - https://www.kaggle.com/data/41592"
      ]
    },
    {
      "cell_type": "markdown",
      "metadata": {
        "id": "mirWm3dBPv90"
      },
      "source": [
        "## **Grading Criteria**\n",
        "\n",
        "- Show clear exploration of the data to justify model choice\n",
        "- Train mutliple models and clearly articulate why you chose your final model\n",
        "- Show your performance on test dataset\n",
        "- Clear and concise write-up with clear well-documented figures\n",
        "- Commit your code to GitHub"
      ]
    },
    {
      "cell_type": "markdown",
      "metadata": {
        "id": "4ZRNqxFcP4wx"
      },
      "source": [
        "## **Submission Details**\n",
        "\n",
        "This is an individual assignment. You may not work in groups. The assignment is due on Friday (05/07/2021)\n",
        "- To submit your assignment, download your notebook and the dataset, zip the dataset and notebook, and submit the zipped file on blackboard.\n",
        "- Make sure the notebook is named in the format - Final_LastName_FirstName. If you are submitting a zipped file, please name the file as well in the same format.\n",
        "- Please include the link to access your blog and your github repo in your notebook.\n",
        "- Also include the link to your notebook, github repo and the blog in the submission on blackboard. Please ensure the TAs have the required access to your notebooks and the github repo.\n",
        "\n",
        "**Note - If the dataset is too large to be zipped and submitted on blackboard, only submit your notebook, add your dataset to your google drive and share a link to the file in your notebook.**"
      ]
    },
    {
      "cell_type": "markdown",
      "metadata": {
        "id": "-Et7Az_BFhoH"
      },
      "source": [
        "Github Repository: https://github.com/stacyshen/Obesity-ML-Models\n",
        "\n",
        "Medium article: https://stacyy.medium.com/obesity-classification-and-data-analysis-via-machine-learning-6635682f0f87"
      ]
    },
    {
      "cell_type": "code",
      "metadata": {
        "id": "ZzWRBLl6MImY",
        "colab": {
          "base_uri": "https://localhost:8080/"
        },
        "outputId": "905e23d0-b3ab-4772-9f23-b6e972f96ea5"
      },
      "source": [
        "#Import necessary libraries \n",
        "import pandas as pd\n",
        "import numpy as np\n",
        "from sklearn.preprocessing import MinMaxScaler\n",
        "import matplotlib.pyplot as plt\n",
        "import seaborn as sns\n",
        "from sklearn.model_selection import train_test_split\n",
        "from sklearn.ensemble import BaggingClassifier\n",
        "from sklearn.metrics import accuracy_score\n",
        "from sklearn.tree import DecisionTreeClassifier\n",
        "from sklearn.ensemble import RandomForestClassifier\n",
        "from sklearn.metrics import (classification_report,recall_score,precision_score,accuracy_score)\n",
        "from sklearn.dummy import DummyClassifier\n",
        "from sklearn.ensemble import AdaBoostClassifier\n",
        "from sklearn.tree import DecisionTreeClassifier\n",
        "from sklearn.ensemble import RandomForestClassifier, VotingClassifier\n",
        "from sklearn.svm import SVC\n",
        "from sklearn.linear_model import LogisticRegression\n",
        "from sklearn.model_selection import cross_val_score\n",
        "from sklearn.model_selection import RandomizedSearchCV\n",
        "from sklearn.model_selection import RepeatedStratifiedKFold\n",
        "from scipy.stats import loguniform\n",
        "from sklearn.model_selection import GridSearchCV\n",
        "from yellowbrick.features import FeatureImportances\n",
        "from sklearn import metrics\n",
        "from yellowbrick.classifier import ClassificationReport\n",
        "\n"
      ],
      "execution_count": 1,
      "outputs": [
        {
          "output_type": "stream",
          "text": [
            "/usr/local/lib/python3.7/dist-packages/sklearn/utils/deprecation.py:144: FutureWarning: The sklearn.metrics.classification module is  deprecated in version 0.22 and will be removed in version 0.24. The corresponding classes / functions should instead be imported from sklearn.metrics. Anything that cannot be imported from sklearn.metrics is now part of the private API.\n",
            "  warnings.warn(message, FutureWarning)\n"
          ],
          "name": "stderr"
        }
      ]
    },
    {
      "cell_type": "code",
      "metadata": {
        "colab": {
          "resources": {
            "http://localhost:8080/nbextensions/google.colab/files.js": {
              "data": "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",
              "ok": true,
              "headers": [
                [
                  "content-type",
                  "application/javascript"
                ]
              ],
              "status": 200,
              "status_text": ""
            }
          },
          "base_uri": "https://localhost:8080/",
          "height": 72
        },
        "id": "yQcl4QP-p4JZ",
        "outputId": "7a4565b3-8848-420d-886e-0a5bc0b9ff7c"
      },
      "source": [
        "#Upload dataset\n",
        "from google.colab import files\n",
        "uploaded = files.upload()"
      ],
      "execution_count": 2,
      "outputs": [
        {
          "output_type": "display_data",
          "data": {
            "text/html": [
              "\n",
              "     <input type=\"file\" id=\"files-a383353e-4d2e-4dbf-9345-eaba32336a69\" name=\"files[]\" multiple disabled\n",
              "        style=\"border:none\" />\n",
              "     <output id=\"result-a383353e-4d2e-4dbf-9345-eaba32336a69\">\n",
              "      Upload widget is only available when the cell has been executed in the\n",
              "      current browser session. Please rerun this cell to enable.\n",
              "      </output>\n",
              "      <script src=\"/nbextensions/google.colab/files.js\"></script> "
            ],
            "text/plain": [
              "<IPython.core.display.HTML object>"
            ]
          },
          "metadata": {
            "tags": []
          }
        },
        {
          "output_type": "stream",
          "text": [
            "Saving ObesityDataSet.csv to ObesityDataSet.csv\n"
          ],
          "name": "stdout"
        }
      ]
    },
    {
      "cell_type": "code",
      "metadata": {
        "colab": {
          "base_uri": "https://localhost:8080/",
          "height": 224
        },
        "id": "sguX1tngq87X",
        "outputId": "22dc6bc4-aadc-4aba-e690-f1fb5e0346cb"
      },
      "source": [
        "#Load data into dataframe df and print first five datapoints to check accuracy before continuing\n",
        "data=pd.read_csv(\"ObesityDataSet.csv\")\n",
        "data.head()\n"
      ],
      "execution_count": 3,
      "outputs": [
        {
          "output_type": "execute_result",
          "data": {
            "text/html": [
              "<div>\n",
              "<style scoped>\n",
              "    .dataframe tbody tr th:only-of-type {\n",
              "        vertical-align: middle;\n",
              "    }\n",
              "\n",
              "    .dataframe tbody tr th {\n",
              "        vertical-align: top;\n",
              "    }\n",
              "\n",
              "    .dataframe thead th {\n",
              "        text-align: right;\n",
              "    }\n",
              "</style>\n",
              "<table border=\"1\" class=\"dataframe\">\n",
              "  <thead>\n",
              "    <tr style=\"text-align: right;\">\n",
              "      <th></th>\n",
              "      <th>Gender</th>\n",
              "      <th>Age</th>\n",
              "      <th>Height</th>\n",
              "      <th>Weight</th>\n",
              "      <th>family_history</th>\n",
              "      <th>FCHCF</th>\n",
              "      <th>FCV</th>\n",
              "      <th>NMM</th>\n",
              "      <th>CFBM</th>\n",
              "      <th>Smoke</th>\n",
              "      <th>CW</th>\n",
              "      <th>CCM</th>\n",
              "      <th>PAF</th>\n",
              "      <th>TUT</th>\n",
              "      <th>CA</th>\n",
              "      <th>Transportation</th>\n",
              "      <th>Obesity</th>\n",
              "    </tr>\n",
              "  </thead>\n",
              "  <tbody>\n",
              "    <tr>\n",
              "      <th>0</th>\n",
              "      <td>1</td>\n",
              "      <td>21.0</td>\n",
              "      <td>1.62</td>\n",
              "      <td>64.0</td>\n",
              "      <td>1</td>\n",
              "      <td>2</td>\n",
              "      <td>2.0</td>\n",
              "      <td>3.0</td>\n",
              "      <td>2</td>\n",
              "      <td>2</td>\n",
              "      <td>2.0</td>\n",
              "      <td>2</td>\n",
              "      <td>0.0</td>\n",
              "      <td>1.0</td>\n",
              "      <td>1</td>\n",
              "      <td>4</td>\n",
              "      <td>2</td>\n",
              "    </tr>\n",
              "    <tr>\n",
              "      <th>1</th>\n",
              "      <td>1</td>\n",
              "      <td>21.0</td>\n",
              "      <td>1.52</td>\n",
              "      <td>56.0</td>\n",
              "      <td>1</td>\n",
              "      <td>2</td>\n",
              "      <td>3.0</td>\n",
              "      <td>3.0</td>\n",
              "      <td>2</td>\n",
              "      <td>1</td>\n",
              "      <td>3.0</td>\n",
              "      <td>1</td>\n",
              "      <td>3.0</td>\n",
              "      <td>0.0</td>\n",
              "      <td>2</td>\n",
              "      <td>4</td>\n",
              "      <td>2</td>\n",
              "    </tr>\n",
              "    <tr>\n",
              "      <th>2</th>\n",
              "      <td>2</td>\n",
              "      <td>23.0</td>\n",
              "      <td>1.80</td>\n",
              "      <td>77.0</td>\n",
              "      <td>1</td>\n",
              "      <td>2</td>\n",
              "      <td>2.0</td>\n",
              "      <td>3.0</td>\n",
              "      <td>2</td>\n",
              "      <td>2</td>\n",
              "      <td>2.0</td>\n",
              "      <td>2</td>\n",
              "      <td>2.0</td>\n",
              "      <td>1.0</td>\n",
              "      <td>3</td>\n",
              "      <td>4</td>\n",
              "      <td>2</td>\n",
              "    </tr>\n",
              "    <tr>\n",
              "      <th>3</th>\n",
              "      <td>2</td>\n",
              "      <td>27.0</td>\n",
              "      <td>1.80</td>\n",
              "      <td>87.0</td>\n",
              "      <td>2</td>\n",
              "      <td>2</td>\n",
              "      <td>3.0</td>\n",
              "      <td>3.0</td>\n",
              "      <td>2</td>\n",
              "      <td>2</td>\n",
              "      <td>2.0</td>\n",
              "      <td>2</td>\n",
              "      <td>2.0</td>\n",
              "      <td>0.0</td>\n",
              "      <td>3</td>\n",
              "      <td>5</td>\n",
              "      <td>2</td>\n",
              "    </tr>\n",
              "    <tr>\n",
              "      <th>4</th>\n",
              "      <td>2</td>\n",
              "      <td>22.0</td>\n",
              "      <td>1.78</td>\n",
              "      <td>89.8</td>\n",
              "      <td>2</td>\n",
              "      <td>2</td>\n",
              "      <td>2.0</td>\n",
              "      <td>1.0</td>\n",
              "      <td>2</td>\n",
              "      <td>2</td>\n",
              "      <td>2.0</td>\n",
              "      <td>2</td>\n",
              "      <td>0.0</td>\n",
              "      <td>0.0</td>\n",
              "      <td>2</td>\n",
              "      <td>4</td>\n",
              "      <td>2</td>\n",
              "    </tr>\n",
              "  </tbody>\n",
              "</table>\n",
              "</div>"
            ],
            "text/plain": [
              "   Gender   Age  Height  Weight  ...  TUT  CA  Transportation  Obesity\n",
              "0       1  21.0    1.62    64.0  ...  1.0   1               4        2\n",
              "1       1  21.0    1.52    56.0  ...  0.0   2               4        2\n",
              "2       2  23.0    1.80    77.0  ...  1.0   3               4        2\n",
              "3       2  27.0    1.80    87.0  ...  0.0   3               5        2\n",
              "4       2  22.0    1.78    89.8  ...  0.0   2               4        2\n",
              "\n",
              "[5 rows x 17 columns]"
            ]
          },
          "metadata": {
            "tags": []
          },
          "execution_count": 3
        }
      ]
    },
    {
      "cell_type": "code",
      "metadata": {
        "colab": {
          "base_uri": "https://localhost:8080/"
        },
        "id": "zq_RPZNcqpeZ",
        "outputId": "cd7cb920-8792-4056-b44a-2afe640f643f"
      },
      "source": [
        "# Returns the array dimensions\n",
        "data.shape"
      ],
      "execution_count": 4,
      "outputs": [
        {
          "output_type": "execute_result",
          "data": {
            "text/plain": [
              "(2111, 17)"
            ]
          },
          "metadata": {
            "tags": []
          },
          "execution_count": 4
        }
      ]
    },
    {
      "cell_type": "code",
      "metadata": {
        "colab": {
          "base_uri": "https://localhost:8080/",
          "height": 336
        },
        "id": "fB-8yNbmqurS",
        "outputId": "cbdb2026-5c9a-4b03-ea3e-98dfab274093"
      },
      "source": [
        "#Check if there are any missing values\n",
        "sns.heatmap(data.isnull(), cbar=False, yticklabels=False, cmap='plasma')"
      ],
      "execution_count": 5,
      "outputs": [
        {
          "output_type": "execute_result",
          "data": {
            "text/plain": [
              "<matplotlib.axes._subplots.AxesSubplot at 0x7fefc0f62050>"
            ]
          },
          "metadata": {
            "tags": []
          },
          "execution_count": 5
        },
        {
          "output_type": "display_data",
          "data": {
            "image/png": "[encoded data removed]",
            "text/plain": [
              "<Figure size 432x288 with 1 Axes>"
            ]
          },
          "metadata": {
            "tags": [],
            "needs_background": "light"
          }
        }
      ]
    },
    {
      "cell_type": "code",
      "metadata": {
        "colab": {
          "base_uri": "https://localhost:8080/",
          "height": 596
        },
        "id": "2nV9AEQwfucU",
        "outputId": "ed0ef481-8a4b-404b-e238-f07d0e2fa4db"
      },
      "source": [
        "#Correlation matrix\n",
        "data.corr()"
      ],
      "execution_count": 6,
      "outputs": [
        {
          "output_type": "execute_result",
          "data": {
            "text/html": [
              "<div>\n",
              "<style scoped>\n",
              "    .dataframe tbody tr th:only-of-type {\n",
              "        vertical-align: middle;\n",
              "    }\n",
              "\n",
              "    .dataframe tbody tr th {\n",
              "        vertical-align: top;\n",
              "    }\n",
              "\n",
              "    .dataframe thead th {\n",
              "        text-align: right;\n",
              "    }\n",
              "</style>\n",
              "<table border=\"1\" class=\"dataframe\">\n",
              "  <thead>\n",
              "    <tr style=\"text-align: right;\">\n",
              "      <th></th>\n",
              "      <th>Gender</th>\n",
              "      <th>Age</th>\n",
              "      <th>Height</th>\n",
              "      <th>Weight</th>\n",
              "      <th>family_history</th>\n",
              "      <th>FCHCF</th>\n",
              "      <th>FCV</th>\n",
              "      <th>NMM</th>\n",
              "      <th>CFBM</th>\n",
              "      <th>Smoke</th>\n",
              "      <th>CW</th>\n",
              "      <th>CCM</th>\n",
              "      <th>PAF</th>\n",
              "      <th>TUT</th>\n",
              "      <th>CA</th>\n",
              "      <th>Transportation</th>\n",
              "      <th>Obesity</th>\n",
              "    </tr>\n",
              "  </thead>\n",
              "  <tbody>\n",
              "    <tr>\n",
              "      <th>Gender</th>\n",
              "      <td>1.000000</td>\n",
              "      <td>0.048394</td>\n",
              "      <td>0.618466</td>\n",
              "      <td>0.161668</td>\n",
              "      <td>-0.102512</td>\n",
              "      <td>-0.064934</td>\n",
              "      <td>-0.274505</td>\n",
              "      <td>0.067600</td>\n",
              "      <td>-0.091543</td>\n",
              "      <td>-0.044698</td>\n",
              "      <td>0.107930</td>\n",
              "      <td>0.102633</td>\n",
              "      <td>0.189607</td>\n",
              "      <td>0.017269</td>\n",
              "      <td>-0.007616</td>\n",
              "      <td>-0.137378</td>\n",
              "      <td>-0.001436</td>\n",
              "    </tr>\n",
              "    <tr>\n",
              "      <th>Age</th>\n",
              "      <td>0.048394</td>\n",
              "      <td>1.000000</td>\n",
              "      <td>-0.025958</td>\n",
              "      <td>0.202560</td>\n",
              "      <td>-0.205725</td>\n",
              "      <td>-0.063902</td>\n",
              "      <td>0.016291</td>\n",
              "      <td>-0.043944</td>\n",
              "      <td>-0.083739</td>\n",
              "      <td>-0.091987</td>\n",
              "      <td>-0.045304</td>\n",
              "      <td>0.116283</td>\n",
              "      <td>-0.144938</td>\n",
              "      <td>-0.296931</td>\n",
              "      <td>0.044487</td>\n",
              "      <td>-0.602317</td>\n",
              "      <td>0.217473</td>\n",
              "    </tr>\n",
              "    <tr>\n",
              "      <th>Height</th>\n",
              "      <td>0.618466</td>\n",
              "      <td>-0.025958</td>\n",
              "      <td>1.000000</td>\n",
              "      <td>0.463136</td>\n",
              "      <td>-0.247684</td>\n",
              "      <td>-0.178364</td>\n",
              "      <td>-0.038121</td>\n",
              "      <td>0.243672</td>\n",
              "      <td>-0.048818</td>\n",
              "      <td>-0.055499</td>\n",
              "      <td>0.213376</td>\n",
              "      <td>0.133753</td>\n",
              "      <td>0.294709</td>\n",
              "      <td>0.051912</td>\n",
              "      <td>0.129732</td>\n",
              "      <td>-0.071616</td>\n",
              "      <td>0.137413</td>\n",
              "    </tr>\n",
              "    <tr>\n",
              "      <th>Weight</th>\n",
              "      <td>0.161668</td>\n",
              "      <td>0.202560</td>\n",
              "      <td>0.463136</td>\n",
              "      <td>1.000000</td>\n",
              "      <td>-0.496820</td>\n",
              "      <td>-0.272300</td>\n",
              "      <td>0.216125</td>\n",
              "      <td>0.107469</td>\n",
              "      <td>-0.287493</td>\n",
              "      <td>-0.025746</td>\n",
              "      <td>0.200575</td>\n",
              "      <td>0.201906</td>\n",
              "      <td>-0.051436</td>\n",
              "      <td>-0.071561</td>\n",
              "      <td>0.206677</td>\n",
              "      <td>0.005742</td>\n",
              "      <td>0.793652</td>\n",
              "    </tr>\n",
              "    <tr>\n",
              "      <th>family_history</th>\n",
              "      <td>-0.102512</td>\n",
              "      <td>-0.205725</td>\n",
              "      <td>-0.247684</td>\n",
              "      <td>-0.496820</td>\n",
              "      <td>1.000000</td>\n",
              "      <td>0.208036</td>\n",
              "      <td>-0.040372</td>\n",
              "      <td>-0.071370</td>\n",
              "      <td>0.169787</td>\n",
              "      <td>0.017385</td>\n",
              "      <td>-0.147437</td>\n",
              "      <td>-0.185422</td>\n",
              "      <td>0.056673</td>\n",
              "      <td>-0.022943</td>\n",
              "      <td>0.036676</td>\n",
              "      <td>0.099229</td>\n",
              "      <td>-0.416607</td>\n",
              "    </tr>\n",
              "    <tr>\n",
              "      <th>FCHCF</th>\n",
              "      <td>-0.064934</td>\n",
              "      <td>-0.063902</td>\n",
              "      <td>-0.178364</td>\n",
              "      <td>-0.272300</td>\n",
              "      <td>0.208036</td>\n",
              "      <td>1.000000</td>\n",
              "      <td>0.027283</td>\n",
              "      <td>0.007000</td>\n",
              "      <td>0.150068</td>\n",
              "      <td>-0.050660</td>\n",
              "      <td>-0.009719</td>\n",
              "      <td>-0.190658</td>\n",
              "      <td>0.107995</td>\n",
              "      <td>-0.068417</td>\n",
              "      <td>-0.089520</td>\n",
              "      <td>0.071444</td>\n",
              "      <td>-0.278355</td>\n",
              "    </tr>\n",
              "    <tr>\n",
              "      <th>FCV</th>\n",
              "      <td>-0.274505</td>\n",
              "      <td>0.016291</td>\n",
              "      <td>-0.038121</td>\n",
              "      <td>0.216125</td>\n",
              "      <td>-0.040372</td>\n",
              "      <td>0.027283</td>\n",
              "      <td>1.000000</td>\n",
              "      <td>0.042216</td>\n",
              "      <td>0.054670</td>\n",
              "      <td>-0.014320</td>\n",
              "      <td>0.068461</td>\n",
              "      <td>-0.071852</td>\n",
              "      <td>0.019939</td>\n",
              "      <td>-0.101135</td>\n",
              "      <td>0.060781</td>\n",
              "      <td>0.063746</td>\n",
              "      <td>0.174848</td>\n",
              "    </tr>\n",
              "    <tr>\n",
              "      <th>NMM</th>\n",
              "      <td>0.067600</td>\n",
              "      <td>-0.043944</td>\n",
              "      <td>0.243672</td>\n",
              "      <td>0.107469</td>\n",
              "      <td>-0.071370</td>\n",
              "      <td>0.007000</td>\n",
              "      <td>0.042216</td>\n",
              "      <td>1.000000</td>\n",
              "      <td>0.097801</td>\n",
              "      <td>-0.007811</td>\n",
              "      <td>0.057088</td>\n",
              "      <td>0.015624</td>\n",
              "      <td>0.129504</td>\n",
              "      <td>0.036326</td>\n",
              "      <td>0.071747</td>\n",
              "      <td>-0.052962</td>\n",
              "      <td>0.037004</td>\n",
              "    </tr>\n",
              "    <tr>\n",
              "      <th>CFBM</th>\n",
              "      <td>-0.091543</td>\n",
              "      <td>-0.083739</td>\n",
              "      <td>-0.048818</td>\n",
              "      <td>-0.287493</td>\n",
              "      <td>0.169787</td>\n",
              "      <td>0.150068</td>\n",
              "      <td>0.054670</td>\n",
              "      <td>0.097801</td>\n",
              "      <td>1.000000</td>\n",
              "      <td>-0.055282</td>\n",
              "      <td>-0.144995</td>\n",
              "      <td>-0.109179</td>\n",
              "      <td>0.030110</td>\n",
              "      <td>0.048567</td>\n",
              "      <td>-0.047540</td>\n",
              "      <td>0.044931</td>\n",
              "      <td>-0.232819</td>\n",
              "    </tr>\n",
              "    <tr>\n",
              "      <th>Smoke</th>\n",
              "      <td>-0.044698</td>\n",
              "      <td>-0.091987</td>\n",
              "      <td>-0.055499</td>\n",
              "      <td>-0.025746</td>\n",
              "      <td>0.017385</td>\n",
              "      <td>-0.050660</td>\n",
              "      <td>-0.014320</td>\n",
              "      <td>-0.007811</td>\n",
              "      <td>-0.055282</td>\n",
              "      <td>1.000000</td>\n",
              "      <td>0.031995</td>\n",
              "      <td>0.047731</td>\n",
              "      <td>-0.011216</td>\n",
              "      <td>-0.017613</td>\n",
              "      <td>-0.082471</td>\n",
              "      <td>0.013098</td>\n",
              "      <td>-0.011578</td>\n",
              "    </tr>\n",
              "    <tr>\n",
              "      <th>CW</th>\n",
              "      <td>0.107930</td>\n",
              "      <td>-0.045304</td>\n",
              "      <td>0.213376</td>\n",
              "      <td>0.200575</td>\n",
              "      <td>-0.147437</td>\n",
              "      <td>-0.009719</td>\n",
              "      <td>0.068461</td>\n",
              "      <td>0.057088</td>\n",
              "      <td>-0.144995</td>\n",
              "      <td>0.031995</td>\n",
              "      <td>1.000000</td>\n",
              "      <td>-0.008036</td>\n",
              "      <td>0.167236</td>\n",
              "      <td>0.011965</td>\n",
              "      <td>0.091386</td>\n",
              "      <td>0.045227</td>\n",
              "      <td>0.097423</td>\n",
              "    </tr>\n",
              "    <tr>\n",
              "      <th>CCM</th>\n",
              "      <td>0.102633</td>\n",
              "      <td>0.116283</td>\n",
              "      <td>0.133753</td>\n",
              "      <td>0.201906</td>\n",
              "      <td>-0.185422</td>\n",
              "      <td>-0.190658</td>\n",
              "      <td>-0.071852</td>\n",
              "      <td>0.015624</td>\n",
              "      <td>-0.109179</td>\n",
              "      <td>0.047731</td>\n",
              "      <td>-0.008036</td>\n",
              "      <td>1.000000</td>\n",
              "      <td>-0.074221</td>\n",
              "      <td>0.010928</td>\n",
              "      <td>-0.003463</td>\n",
              "      <td>-0.041640</td>\n",
              "      <td>0.187952</td>\n",
              "    </tr>\n",
              "    <tr>\n",
              "      <th>PAF</th>\n",
              "      <td>0.189607</td>\n",
              "      <td>-0.144938</td>\n",
              "      <td>0.294709</td>\n",
              "      <td>-0.051436</td>\n",
              "      <td>0.056673</td>\n",
              "      <td>0.107995</td>\n",
              "      <td>0.019939</td>\n",
              "      <td>0.129504</td>\n",
              "      <td>0.030110</td>\n",
              "      <td>-0.011216</td>\n",
              "      <td>0.167236</td>\n",
              "      <td>-0.074221</td>\n",
              "      <td>1.000000</td>\n",
              "      <td>0.058562</td>\n",
              "      <td>-0.086799</td>\n",
              "      <td>0.010377</td>\n",
              "      <td>-0.147097</td>\n",
              "    </tr>\n",
              "    <tr>\n",
              "      <th>TUT</th>\n",
              "      <td>0.017269</td>\n",
              "      <td>-0.296931</td>\n",
              "      <td>0.051912</td>\n",
              "      <td>-0.071561</td>\n",
              "      <td>-0.022943</td>\n",
              "      <td>-0.068417</td>\n",
              "      <td>-0.101135</td>\n",
              "      <td>0.036326</td>\n",
              "      <td>0.048567</td>\n",
              "      <td>-0.017613</td>\n",
              "      <td>0.011965</td>\n",
              "      <td>0.010928</td>\n",
              "      <td>0.058562</td>\n",
              "      <td>1.000000</td>\n",
              "      <td>-0.045864</td>\n",
              "      <td>0.179618</td>\n",
              "      <td>-0.082742</td>\n",
              "    </tr>\n",
              "    <tr>\n",
              "      <th>CA</th>\n",
              "      <td>-0.007616</td>\n",
              "      <td>0.044487</td>\n",
              "      <td>0.129732</td>\n",
              "      <td>0.206677</td>\n",
              "      <td>0.036676</td>\n",
              "      <td>-0.089520</td>\n",
              "      <td>0.060781</td>\n",
              "      <td>0.071747</td>\n",
              "      <td>-0.047540</td>\n",
              "      <td>-0.082471</td>\n",
              "      <td>0.091386</td>\n",
              "      <td>-0.003463</td>\n",
              "      <td>-0.086799</td>\n",
              "      <td>-0.045864</td>\n",
              "      <td>1.000000</td>\n",
              "      <td>0.013113</td>\n",
              "      <td>0.073897</td>\n",
              "    </tr>\n",
              "    <tr>\n",
              "      <th>Transportation</th>\n",
              "      <td>-0.137378</td>\n",
              "      <td>-0.602317</td>\n",
              "      <td>-0.071616</td>\n",
              "      <td>0.005742</td>\n",
              "      <td>0.099229</td>\n",
              "      <td>0.071444</td>\n",
              "      <td>0.063746</td>\n",
              "      <td>-0.052962</td>\n",
              "      <td>0.044931</td>\n",
              "      <td>0.013098</td>\n",
              "      <td>0.045227</td>\n",
              "      <td>-0.041640</td>\n",
              "      <td>0.010377</td>\n",
              "      <td>0.179618</td>\n",
              "      <td>0.013113</td>\n",
              "      <td>1.000000</td>\n",
              "      <td>-0.002380</td>\n",
              "    </tr>\n",
              "    <tr>\n",
              "      <th>Obesity</th>\n",
              "      <td>-0.001436</td>\n",
              "      <td>0.217473</td>\n",
              "      <td>0.137413</td>\n",
              "      <td>0.793652</td>\n",
              "      <td>-0.416607</td>\n",
              "      <td>-0.278355</td>\n",
              "      <td>0.174848</td>\n",
              "      <td>0.037004</td>\n",
              "      <td>-0.232819</td>\n",
              "      <td>-0.011578</td>\n",
              "      <td>0.097423</td>\n",
              "      <td>0.187952</td>\n",
              "      <td>-0.147097</td>\n",
              "      <td>-0.082742</td>\n",
              "      <td>0.073897</td>\n",
              "      <td>-0.002380</td>\n",
              "      <td>1.000000</td>\n",
              "    </tr>\n",
              "  </tbody>\n",
              "</table>\n",
              "</div>"
            ],
            "text/plain": [
              "                  Gender       Age  ...  Transportation   Obesity\n",
              "Gender          1.000000  0.048394  ...       -0.137378 -0.001436\n",
              "Age             0.048394  1.000000  ...       -0.602317  0.217473\n",
              "Height          0.618466 -0.025958  ...       -0.071616  0.137413\n",
              "Weight          0.161668  0.202560  ...        0.005742  0.793652\n",
              "family_history -0.102512 -0.205725  ...        0.099229 -0.416607\n",
              "FCHCF          -0.064934 -0.063902  ...        0.071444 -0.278355\n",
              "FCV            -0.274505  0.016291  ...        0.063746  0.174848\n",
              "NMM             0.067600 -0.043944  ...       -0.052962  0.037004\n",
              "CFBM           -0.091543 -0.083739  ...        0.044931 -0.232819\n",
              "Smoke          -0.044698 -0.091987  ...        0.013098 -0.011578\n",
              "CW              0.107930 -0.045304  ...        0.045227  0.097423\n",
              "CCM             0.102633  0.116283  ...       -0.041640  0.187952\n",
              "PAF             0.189607 -0.144938  ...        0.010377 -0.147097\n",
              "TUT             0.017269 -0.296931  ...        0.179618 -0.082742\n",
              "CA             -0.007616  0.044487  ...        0.013113  0.073897\n",
              "Transportation -0.137378 -0.602317  ...        1.000000 -0.002380\n",
              "Obesity        -0.001436  0.217473  ...       -0.002380  1.000000\n",
              "\n",
              "[17 rows x 17 columns]"
            ]
          },
          "metadata": {
            "tags": []
          },
          "execution_count": 6
        }
      ]
    },
    {
      "cell_type": "code",
      "metadata": {
        "colab": {
          "base_uri": "https://localhost:8080/",
          "height": 537
        },
        "id": "5sBH5XqipqxR",
        "outputId": "adf41856-09fa-4e6b-936b-d161d4fdbefb"
      },
      "source": [
        "#Correlation heatmap\n",
        "plt.figure(figsize=(15,10))\n",
        "sns.heatmap(data.corr(), annot = True)"
      ],
      "execution_count": 7,
      "outputs": [
        {
          "output_type": "execute_result",
          "data": {
            "text/plain": [
              "<matplotlib.axes._subplots.AxesSubplot at 0x7fefb513f890>"
            ]
          },
          "metadata": {
            "tags": []
          },
          "execution_count": 7
        },
        {
          "output_type": "display_data",
          "data": {
            "image/png": "[encoded data removed]",
            "text/plain": [
              "<Figure size 1080x720 with 2 Axes>"
            ]
          },
          "metadata": {
            "tags": [],
            "needs_background": "light"
          }
        }
      ]
    },
    {
      "cell_type": "code",
      "metadata": {
        "id": "C7jvl_doAc0L"
      },
      "source": [
        "#Drop the weight variable\n",
        "data.drop(['Weight'],axis = 1, inplace = True)"
      ],
      "execution_count": 8,
      "outputs": []
    },
    {
      "cell_type": "code",
      "metadata": {
        "colab": {
          "base_uri": "https://localhost:8080/",
          "height": 827
        },
        "id": "fJnDq8lLUmM7",
        "outputId": "2c07e7a4-6ff8-465b-eb41-36d2a00ac4df"
      },
      "source": [
        "#Return columns\n",
        "print(data.keys(), \"\\n\")\n",
        "\n",
        "#Return array dimensions\n",
        "print(data.shape, \"\\n\")\n",
        "\n",
        "#Dataframe summary\n",
        "data.info()\n",
        "\n",
        "#Summarize  central tendency, dispersion, and shape of a dataset’s distribution\n",
        "data.describe()"
      ],
      "execution_count": 9,
      "outputs": [
        {
          "output_type": "stream",
          "text": [
            "Index(['Gender', 'Age', 'Height', 'family_history', 'FCHCF', 'FCV', 'NMM',\n",
            "       'CFBM', 'Smoke', 'CW', 'CCM', 'PAF', 'TUT', 'CA', 'Transportation',\n",
            "       'Obesity'],\n",
            "      dtype='object') \n",
            "\n",
            "(2111, 16) \n",
            "\n",
            "<class 'pandas.core.frame.DataFrame'>\n",
            "RangeIndex: 2111 entries, 0 to 2110\n",
            "Data columns (total 16 columns):\n",
            " #   Column          Non-Null Count  Dtype  \n",
            "---  ------          --------------  -----  \n",
            " 0   Gender          2111 non-null   int64  \n",
            " 1   Age             2111 non-null   float64\n",
            " 2   Height          2111 non-null   float64\n",
            " 3   family_history  2111 non-null   int64  \n",
            " 4   FCHCF           2111 non-null   int64  \n",
            " 5   FCV             2111 non-null   float64\n",
            " 6   NMM             2111 non-null   float64\n",
            " 7   CFBM            2111 non-null   int64  \n",
            " 8   Smoke           2111 non-null   int64  \n",
            " 9   CW              2111 non-null   float64\n",
            " 10  CCM             2111 non-null   int64  \n",
            " 11  PAF             2111 non-null   float64\n",
            " 12  TUT             2111 non-null   float64\n",
            " 13  CA              2111 non-null   int64  \n",
            " 14  Transportation  2111 non-null   int64  \n",
            " 15  Obesity         2111 non-null   int64  \n",
            "dtypes: float64(7), int64(9)\n",
            "memory usage: 264.0 KB\n"
          ],
          "name": "stdout"
        },
        {
          "output_type": "execute_result",
          "data": {
            "text/html": [
              "<div>\n",
              "<style scoped>\n",
              "    .dataframe tbody tr th:only-of-type {\n",
              "        vertical-align: middle;\n",
              "    }\n",
              "\n",
              "    .dataframe tbody tr th {\n",
              "        vertical-align: top;\n",
              "    }\n",
              "\n",
              "    .dataframe thead th {\n",
              "        text-align: right;\n",
              "    }\n",
              "</style>\n",
              "<table border=\"1\" class=\"dataframe\">\n",
              "  <thead>\n",
              "    <tr style=\"text-align: right;\">\n",
              "      <th></th>\n",
              "      <th>Gender</th>\n",
              "      <th>Age</th>\n",
              "      <th>Height</th>\n",
              "      <th>family_history</th>\n",
              "      <th>FCHCF</th>\n",
              "      <th>FCV</th>\n",
              "      <th>NMM</th>\n",
              "      <th>CFBM</th>\n",
              "      <th>Smoke</th>\n",
              "      <th>CW</th>\n",
              "      <th>CCM</th>\n",
              "      <th>PAF</th>\n",
              "      <th>TUT</th>\n",
              "      <th>CA</th>\n",
              "      <th>Transportation</th>\n",
              "      <th>Obesity</th>\n",
              "    </tr>\n",
              "  </thead>\n",
              "  <tbody>\n",
              "    <tr>\n",
              "      <th>count</th>\n",
              "      <td>2111.000000</td>\n",
              "      <td>2111.000000</td>\n",
              "      <td>2111.000000</td>\n",
              "      <td>2111.000000</td>\n",
              "      <td>2111.000000</td>\n",
              "      <td>2111.000000</td>\n",
              "      <td>2111.000000</td>\n",
              "      <td>2111.000000</td>\n",
              "      <td>2111.000000</td>\n",
              "      <td>2111.000000</td>\n",
              "      <td>2111.000000</td>\n",
              "      <td>2111.000000</td>\n",
              "      <td>2111.000000</td>\n",
              "      <td>2111.000000</td>\n",
              "      <td>2111.000000</td>\n",
              "      <td>2111.000000</td>\n",
              "    </tr>\n",
              "    <tr>\n",
              "      <th>mean</th>\n",
              "      <td>1.505921</td>\n",
              "      <td>24.312600</td>\n",
              "      <td>1.701677</td>\n",
              "      <td>1.182378</td>\n",
              "      <td>1.116059</td>\n",
              "      <td>2.419043</td>\n",
              "      <td>2.685628</td>\n",
              "      <td>2.140692</td>\n",
              "      <td>1.979157</td>\n",
              "      <td>2.008011</td>\n",
              "      <td>1.954524</td>\n",
              "      <td>1.010298</td>\n",
              "      <td>0.657866</td>\n",
              "      <td>1.731407</td>\n",
              "      <td>3.363335</td>\n",
              "      <td>2.920891</td>\n",
              "    </tr>\n",
              "    <tr>\n",
              "      <th>std</th>\n",
              "      <td>0.500083</td>\n",
              "      <td>6.345968</td>\n",
              "      <td>0.093305</td>\n",
              "      <td>0.386247</td>\n",
              "      <td>0.320371</td>\n",
              "      <td>0.533927</td>\n",
              "      <td>0.778039</td>\n",
              "      <td>0.468543</td>\n",
              "      <td>0.142893</td>\n",
              "      <td>0.612953</td>\n",
              "      <td>0.208395</td>\n",
              "      <td>0.850592</td>\n",
              "      <td>0.608927</td>\n",
              "      <td>0.515498</td>\n",
              "      <td>1.262721</td>\n",
              "      <td>0.997102</td>\n",
              "    </tr>\n",
              "    <tr>\n",
              "      <th>min</th>\n",
              "      <td>1.000000</td>\n",
              "      <td>14.000000</td>\n",
              "      <td>1.450000</td>\n",
              "      <td>1.000000</td>\n",
              "      <td>1.000000</td>\n",
              "      <td>1.000000</td>\n",
              "      <td>1.000000</td>\n",
              "      <td>1.000000</td>\n",
              "      <td>1.000000</td>\n",
              "      <td>1.000000</td>\n",
              "      <td>1.000000</td>\n",
              "      <td>0.000000</td>\n",
              "      <td>0.000000</td>\n",
              "      <td>1.000000</td>\n",
              "      <td>1.000000</td>\n",
              "      <td>2.000000</td>\n",
              "    </tr>\n",
              "    <tr>\n",
              "      <th>25%</th>\n",
              "      <td>1.000000</td>\n",
              "      <td>19.947192</td>\n",
              "      <td>1.630000</td>\n",
              "      <td>1.000000</td>\n",
              "      <td>1.000000</td>\n",
              "      <td>2.000000</td>\n",
              "      <td>2.658738</td>\n",
              "      <td>2.000000</td>\n",
              "      <td>2.000000</td>\n",
              "      <td>1.584812</td>\n",
              "      <td>2.000000</td>\n",
              "      <td>0.124505</td>\n",
              "      <td>0.000000</td>\n",
              "      <td>1.000000</td>\n",
              "      <td>4.000000</td>\n",
              "      <td>2.000000</td>\n",
              "    </tr>\n",
              "    <tr>\n",
              "      <th>50%</th>\n",
              "      <td>2.000000</td>\n",
              "      <td>22.777890</td>\n",
              "      <td>1.700499</td>\n",
              "      <td>1.000000</td>\n",
              "      <td>1.000000</td>\n",
              "      <td>2.385502</td>\n",
              "      <td>3.000000</td>\n",
              "      <td>2.000000</td>\n",
              "      <td>2.000000</td>\n",
              "      <td>2.000000</td>\n",
              "      <td>2.000000</td>\n",
              "      <td>1.000000</td>\n",
              "      <td>0.625350</td>\n",
              "      <td>2.000000</td>\n",
              "      <td>4.000000</td>\n",
              "      <td>2.000000</td>\n",
              "    </tr>\n",
              "    <tr>\n",
              "      <th>75%</th>\n",
              "      <td>2.000000</td>\n",
              "      <td>26.000000</td>\n",
              "      <td>1.768464</td>\n",
              "      <td>1.000000</td>\n",
              "      <td>1.000000</td>\n",
              "      <td>3.000000</td>\n",
              "      <td>3.000000</td>\n",
              "      <td>2.000000</td>\n",
              "      <td>2.000000</td>\n",
              "      <td>2.477420</td>\n",
              "      <td>2.000000</td>\n",
              "      <td>1.666678</td>\n",
              "      <td>1.000000</td>\n",
              "      <td>2.000000</td>\n",
              "      <td>4.000000</td>\n",
              "      <td>4.000000</td>\n",
              "    </tr>\n",
              "    <tr>\n",
              "      <th>max</th>\n",
              "      <td>2.000000</td>\n",
              "      <td>61.000000</td>\n",
              "      <td>1.980000</td>\n",
              "      <td>2.000000</td>\n",
              "      <td>2.000000</td>\n",
              "      <td>3.000000</td>\n",
              "      <td>4.000000</td>\n",
              "      <td>4.000000</td>\n",
              "      <td>2.000000</td>\n",
              "      <td>3.000000</td>\n",
              "      <td>2.000000</td>\n",
              "      <td>3.000000</td>\n",
              "      <td>2.000000</td>\n",
              "      <td>4.000000</td>\n",
              "      <td>5.000000</td>\n",
              "      <td>4.000000</td>\n",
              "    </tr>\n",
              "  </tbody>\n",
              "</table>\n",
              "</div>"
            ],
            "text/plain": [
              "            Gender          Age  ...  Transportation      Obesity\n",
              "count  2111.000000  2111.000000  ...     2111.000000  2111.000000\n",
              "mean      1.505921    24.312600  ...        3.363335     2.920891\n",
              "std       0.500083     6.345968  ...        1.262721     0.997102\n",
              "min       1.000000    14.000000  ...        1.000000     2.000000\n",
              "25%       1.000000    19.947192  ...        4.000000     2.000000\n",
              "50%       2.000000    22.777890  ...        4.000000     2.000000\n",
              "75%       2.000000    26.000000  ...        4.000000     4.000000\n",
              "max       2.000000    61.000000  ...        5.000000     4.000000\n",
              "\n",
              "[8 rows x 16 columns]"
            ]
          },
          "metadata": {
            "tags": []
          },
          "execution_count": 9
        }
      ]
    },
    {
      "cell_type": "code",
      "metadata": {
        "colab": {
          "base_uri": "https://localhost:8080/",
          "height": 281
        },
        "id": "6YV0N0ODGt_8",
        "outputId": "09561170-1079-45df-d315-dbfba92bb8b4"
      },
      "source": [
        "#Distribution of the target variable via countplot\n",
        "sns.countplot(x='Obesity', data=data)\n",
        "plt.xlabel(\"Weight Classification\", size=12)\n",
        "plt.ylabel(\"Count\", size=12)\n",
        "plt.show()"
      ],
      "execution_count": 10,
      "outputs": [
        {
          "output_type": "display_data",
          "data": {
            "image/png": "[encoded data removed]",
            "text/plain": [
              "<Figure size 432x288 with 1 Axes>"
            ]
          },
          "metadata": {
            "tags": [],
            "needs_background": "light"
          }
        }
      ]
    },
    {
      "cell_type": "code",
      "metadata": {
        "colab": {
          "base_uri": "https://localhost:8080/"
        },
        "id": "42S0pa7vrQTV",
        "outputId": "2ed70fab-3d53-42b1-9832-7d371d9ae420"
      },
      "source": [
        "#Normalize the data\n",
        "scaler = MinMaxScaler(feature_range=(0, 1))\n",
        "normalizedData = scaler.fit_transform(data)\n",
        "cols = ['Gender', 'Age', 'Height', 'family_history','FCHCF','FCV','NMM','CFBM','Smoke','CW','CCM', 'PAF','TUT','CA','Transportation','Obesity']\n",
        "normalizedData = pd.DataFrame(normalizedData, columns=cols)\n",
        "print(normalizedData.head())"
      ],
      "execution_count": 11,
      "outputs": [
        {
          "output_type": "stream",
          "text": [
            "   Gender       Age    Height  ...        CA  Transportation  Obesity\n",
            "0     0.0  0.148936  0.320755  ...  0.000000            0.75      0.0\n",
            "1     0.0  0.148936  0.132075  ...  0.333333            0.75      0.0\n",
            "2     1.0  0.191489  0.660377  ...  0.666667            0.75      0.0\n",
            "3     1.0  0.276596  0.660377  ...  0.666667            1.00      0.0\n",
            "4     1.0  0.170213  0.622642  ...  0.333333            0.75      0.0\n",
            "\n",
            "[5 rows x 16 columns]\n"
          ],
          "name": "stdout"
        }
      ]
    },
    {
      "cell_type": "code",
      "metadata": {
        "colab": {
          "base_uri": "https://localhost:8080/"
        },
        "id": "si351mFWt0qu",
        "outputId": "529ed6d3-1f94-4116-e843-5bb50d1be3ac"
      },
      "source": [
        "#Store the feature and target variable\n",
        "X = normalizedData.iloc[:, :-1]\n",
        "y = normalizedData.iloc[:, -1]\n",
        "\n",
        "print(normalizedData.shape)\n",
        "print(X.shape)\n",
        "print(y.shape)\n",
        "\n",
        "#Partition the data into training and test sets (70/30)\n",
        "X_train, X_test, y_train, y_test = train_test_split(X,y,test_size=0.30,random_state=42)\n",
        "\n",
        "print(X_train.shape)\n",
        "print(X_test.shape)\n",
        "print(y_train.shape)\n",
        "print(y_test.shape)"
      ],
      "execution_count": 12,
      "outputs": [
        {
          "output_type": "stream",
          "text": [
            "(2111, 16)\n",
            "(2111, 15)\n",
            "(2111,)\n",
            "(1477, 15)\n",
            "(634, 15)\n",
            "(1477,)\n",
            "(634,)\n"
          ],
          "name": "stdout"
        }
      ]
    },
    {
      "cell_type": "code",
      "metadata": {
        "colab": {
          "base_uri": "https://localhost:8080/"
        },
        "id": "yjIUramSI8N_",
        "outputId": "00a620f0-13a0-4a42-cd5b-2b49a4d3e979"
      },
      "source": [
        "# Compute the baseline classification accuracy for X_train\n",
        "dummy_classifier = DummyClassifier(strategy='most_frequent')\n",
        "dummy_classifier.fit(X_train,y_train)\n",
        "baseline_acc = dummy_classifier.score(X_test,y_test)\n",
        "print(\"Baseline Accuracy = \", baseline_acc)"
      ],
      "execution_count": 13,
      "outputs": [
        {
          "output_type": "stream",
          "text": [
            "Baseline Accuracy =  0.5457413249211357\n"
          ],
          "name": "stdout"
        }
      ]
    },
    {
      "cell_type": "markdown",
      "metadata": {
        "id": "qS6X7_0AkSPD"
      },
      "source": [
        "Model #1: Logistic Regression"
      ]
    },
    {
      "cell_type": "code",
      "metadata": {
        "colab": {
          "base_uri": "https://localhost:8080/"
        },
        "id": "OT8UEKHrwAVn",
        "outputId": "061d9ed6-da11-4aa7-be72-2d88b41949e5"
      },
      "source": [
        "#Logistic regression accuracy\n",
        "logReg = LogisticRegression(random_state=42)\n",
        "logReg.fit(X_train, y_train)\n",
        "y_pred = logReg.predict(X_test)\n",
        "print(\"Accuracy of predictions:\", metrics.accuracy_score(y_test, y_pred))\n",
        "\n",
        "#cross-validation\n",
        "cv1 = cross_val_score(logReg, X, y, scoring='accuracy', cv=10)\n",
        "cv1 = pd.Series(cv1)\n",
        "print(\"Cross-validation: \", cv1.mean())\n"
      ],
      "execution_count": 14,
      "outputs": [
        {
          "output_type": "stream",
          "text": [
            "Accuracy of predictions: 0.7791798107255521\n",
            "Cross-validation:  0.7101068586246981\n"
          ],
          "name": "stdout"
        }
      ]
    },
    {
      "cell_type": "code",
      "metadata": {
        "colab": {
          "base_uri": "https://localhost:8080/"
        },
        "id": "C9D8pwgLMlxw",
        "outputId": "07511b4f-dbc5-4d3c-eeb5-0fa44462de98"
      },
      "source": [
        "#GridSearchCV\n",
        "solvers = ['newton-cg', 'lbfgs', 'liblinear']\n",
        "penalty = ['l1', 'l2', 'elasticnet']\n",
        "c_values = [150, 100, 75, 50, 10, 1.0, 0.1, 0.01, 0.001, 0.0001]\n",
        "grid = dict(solver=solvers,penalty=penalty,C=c_values)\n",
        "cv = RepeatedStratifiedKFold(n_splits=10, n_repeats=10, random_state=42)\n",
        "grid_search = GridSearchCV(estimator=logReg, param_grid=grid, n_jobs=-1, cv=cv, scoring='accuracy',error_score=0)\n",
        "grid_result = grid_search.fit(X, y)\n",
        "print(\"Best: %f using %s\" % (grid_result.best_score_, grid_result.best_params_))"
      ],
      "execution_count": 15,
      "outputs": [
        {
          "output_type": "stream",
          "text": [
            "Best: 0.757221 using {'C': 100, 'penalty': 'l2', 'solver': 'liblinear'}\n"
          ],
          "name": "stdout"
        }
      ]
    },
    {
      "cell_type": "code",
      "metadata": {
        "colab": {
          "base_uri": "https://localhost:8080/"
        },
        "id": "0dMEvA5f3iwc",
        "outputId": "a1d09632-e92e-4a1b-ecc6-1480602e1458"
      },
      "source": [
        "#Log reg with grid search hyperparameters\n",
        "gridLogReg = LogisticRegression(random_state = 42, penalty = \"l2\", C = 100, solver = \"liblinear\")\n",
        "gridLogReg.fit(X_train, y_train)\n",
        "grid_pred = gridLogReg.predict(X_test)\n",
        "print(\"Accuracy of predictions:\", metrics.accuracy_score(y_test, grid_pred))\n",
        "#cross-validation\n",
        "gridcv = cross_val_score(gridLogReg, X, y, scoring='accuracy', cv=10)\n",
        "gridcv = pd.Series(gridcv)\n",
        "print(\"Cross-validation: \", gridcv.mean())\n"
      ],
      "execution_count": 16,
      "outputs": [
        {
          "output_type": "stream",
          "text": [
            "Accuracy of predictions: 0.7870662460567823\n",
            "Cross-validation:  0.7200549941876062\n"
          ],
          "name": "stdout"
        }
      ]
    },
    {
      "cell_type": "code",
      "metadata": {
        "colab": {
          "base_uri": "https://localhost:8080/"
        },
        "id": "-QypErTuNhwz",
        "outputId": "9cfd7cba-06ac-441f-f50a-db7b095a2385"
      },
      "source": [
        "#RandomizedSearchCV\n",
        "space = dict()\n",
        "space['solver'] = ['newton-cg', 'lbfgs', 'liblinear']\n",
        "space['penalty'] = ['l1', 'l2', 'elasticnet']\n",
        "space['C'] = loguniform(1e-4, 200)\n",
        "cv2 = RepeatedStratifiedKFold(n_splits=10, n_repeats=10, random_state=42)\n",
        "rsearch = RandomizedSearchCV(estimator=logReg, param_distributions = space, n_iter = 10, n_jobs=-1, cv=cv2, scoring='accuracy',error_score=0, random_state = 42)\n",
        "rsearch = rsearch.fit(X, y)\n",
        "print(\"Best: %f using %s\" % (rsearch.best_score_, rsearch.best_params_))"
      ],
      "execution_count": null,
      "outputs": [
        {
          "output_type": "stream",
          "text": [
            "Best: 0.754094 using {'C': 0.7166439561498453, 'penalty': 'l2', 'solver': 'liblinear'}\n"
          ],
          "name": "stdout"
        }
      ]
    },
    {
      "cell_type": "code",
      "metadata": {
        "colab": {
          "base_uri": "https://localhost:8080/"
        },
        "id": "hApYXGQ1q6gv",
        "outputId": "4da7b30f-9a06-457d-82fa-c8eb395489d3"
      },
      "source": [
        "#Log reg with randomized search hyperparameters\n",
        "ranLogReg = LogisticRegression(random_state = 42, penalty = \"l2\", C = 0.7166439561498453, solver = \"liblinear\")\n",
        "ranLogReg.fit(X_train, y_train)\n",
        "ran_pred = ranLogReg.predict(X_test)\n",
        "print(\"Accuracy of predictions:\", metrics.accuracy_score(y_test, ran_pred))\n",
        "#cross-validation \n",
        "rancv = cross_val_score(ranLogReg, X, y, scoring='accuracy', cv=10)\n",
        "rancv = pd.Series(rancv)\n",
        "print(\"Cross-validation: \", rancv.mean())"
      ],
      "execution_count": null,
      "outputs": [
        {
          "output_type": "stream",
          "text": [
            "Accuracy of predictions: 0.7791798107255521\n",
            "Cross-validation:  0.7115308951086471\n"
          ],
          "name": "stdout"
        }
      ]
    },
    {
      "cell_type": "code",
      "metadata": {
        "colab": {
          "base_uri": "https://localhost:8080/",
          "height": 333
        },
        "id": "pcJI11mPIin8",
        "outputId": "ae0a8c9c-8401-43b9-bdcf-84341bdd9650"
      },
      "source": [
        "#Log reg feature importance visualization\n",
        "feature_importance = abs(gridLogReg.coef_[0])\n",
        "feature_importance = 100.0 * (feature_importance / feature_importance.max())\n",
        "sorted_idx = np.argsort(feature_importance)\n",
        "pos = np.arange(sorted_idx.shape[0]) + .5\n",
        "featfig = plt.figure(figsize=(15,7))\n",
        "featax = featfig.add_subplot(1, 1, 1)\n",
        "featax.barh(pos, feature_importance[sorted_idx], align='center')\n",
        "featax.set_yticks(pos)\n",
        "featax.set_yticklabels(np.array(X.columns)[sorted_idx], fontsize=10)\n",
        "featax.set_xlabel('Relative Feature Importance')\n",
        "plt.tight_layout()   \n",
        "plt.show()\n"
      ],
      "execution_count": null,
      "outputs": [
        {
          "output_type": "display_data",
          "data": {
            "image/png": "[encoded data removed]",
            "text/plain": [
              "<Figure size 1080x504 with 1 Axes>"
            ]
          },
          "metadata": {
            "tags": []
          }
        }
      ]
    },
    {
      "cell_type": "code",
      "metadata": {
        "colab": {
          "base_uri": "https://localhost:8080/",
          "height": 309
        },
        "id": "rFYfpla0_NNJ",
        "outputId": "64cc0d2a-3b97-42be-c42c-bff1aeb69df8"
      },
      "source": [
        "#Log reg classification report visualizer\n",
        "visualizer = ClassificationReport(gridLogReg, size=(500, 300))\n",
        "visualizer.fit(X_train, y_train)\n",
        "visualizer.score(X_test, y_test)\n",
        "visualizer.poof()"
      ],
      "execution_count": null,
      "outputs": [
        {
          "output_type": "display_data",
          "data": {
            "image/png": "[encoded data removed]",
            "text/plain": [
              "<Figure size 500x300 with 2 Axes>"
            ]
          },
          "metadata": {
            "tags": [],
            "needs_background": "light"
          }
        }
      ]
    },
    {
      "cell_type": "markdown",
      "metadata": {
        "id": "EVZIEOGOkXei"
      },
      "source": [
        "Model #2: Bagging Classifier"
      ]
    },
    {
      "cell_type": "code",
      "metadata": {
        "colab": {
          "base_uri": "https://localhost:8080/",
          "height": 296
        },
        "id": "Z6rfz2huih--",
        "outputId": "183a30f8-ab43-40ea-c966-aa03055cbfe1"
      },
      "source": [
        "#Bagging n_estimator and testing accuracy\n",
        "scoresbag =[]\n",
        "for k in range(1, 200):\n",
        "    bgc = BaggingClassifier(n_estimators=k)\n",
        "    bgc.fit(X_train, y_train)\n",
        "    y_predbag = bgc.predict(X_test)\n",
        "    scoresbag.append(accuracy_score(y_test, y_predbag))\n",
        "%matplotlib inline\n",
        "plt.plot(range(1, 200), scoresbag)\n",
        "plt.xlabel('Value of n_estimators for BaggingClassifier')\n",
        "plt.ylabel('Testing Accuracy')"
      ],
      "execution_count": null,
      "outputs": [
        {
          "output_type": "execute_result",
          "data": {
            "text/plain": [
              "Text(0, 0.5, 'Testing Accuracy')"
            ]
          },
          "metadata": {
            "tags": []
          },
          "execution_count": 21
        },
        {
          "output_type": "display_data",
          "data": {
            "image/png": "[encoded data removed]",
            "text/plain": [
              "<Figure size 432x288 with 1 Axes>"
            ]
          },
          "metadata": {
            "tags": [],
            "needs_background": "light"
          }
        }
      ]
    },
    {
      "cell_type": "code",
      "metadata": {
        "colab": {
          "base_uri": "https://localhost:8080/"
        },
        "id": "appWAMt0-kDo",
        "outputId": "1a751a66-87e4-4c82-f272-a5519104e534"
      },
      "source": [
        "# Generic Bagging model\n",
        "base_est1 = DecisionTreeClassifier()\n",
        "model_bagging = BaggingClassifier(base_est1,n_estimators = 79, random_state = 42)\n",
        "model_bagging.fit(X_train, y_train)\n",
        "pred_bagging = model_bagging.predict(X_test)\n",
        "acc_bagging = accuracy_score(y_test, pred_bagging)\n",
        "print('Accuracy = ', acc_bagging)\n",
        "#cross-validation\n",
        "bagcv = cross_val_score(model_bagging, X, y, scoring='accuracy', cv=10)\n",
        "bagcv = pd.Series(bagcv)\n",
        "print(\"Cross-validation: \", bagcv.mean())"
      ],
      "execution_count": null,
      "outputs": [
        {
          "output_type": "stream",
          "text": [
            "Accuracy =  0.9305993690851735\n",
            "Cross-validation:  0.9214454976303317\n"
          ],
          "name": "stdout"
        }
      ]
    },
    {
      "cell_type": "code",
      "metadata": {
        "colab": {
          "base_uri": "https://localhost:8080/"
        },
        "id": "xlUAyzUwZIo6",
        "outputId": "c6b5f4c3-ce74-416e-ca72-3844f94ba3b8"
      },
      "source": [
        "#Bagging classification report\n",
        "print('Classification Report:\\n')\n",
        "print(classification_report(y_test, pred_bagging))"
      ],
      "execution_count": null,
      "outputs": [
        {
          "output_type": "stream",
          "text": [
            "Classification Report:\n",
            "\n",
            "              precision    recall  f1-score   support\n",
            "\n",
            "         0.0       0.94      0.94      0.94       346\n",
            "         1.0       0.92      0.92      0.92       288\n",
            "\n",
            "    accuracy                           0.93       634\n",
            "   macro avg       0.93      0.93      0.93       634\n",
            "weighted avg       0.93      0.93      0.93       634\n",
            "\n"
          ],
          "name": "stdout"
        }
      ]
    },
    {
      "cell_type": "markdown",
      "metadata": {
        "id": "M_3SftnckreL"
      },
      "source": [
        "Model #3: Random Forest Classifer"
      ]
    },
    {
      "cell_type": "code",
      "metadata": {
        "colab": {
          "base_uri": "https://localhost:8080/",
          "height": 296
        },
        "id": "M91wkh9egnK5",
        "outputId": "17f2a214-1344-426e-f89f-4f9a8c49ac9a"
      },
      "source": [
        "#Random forest n_estimator and testing accuracy\n",
        "scoresrf =[]\n",
        "for k in range(1, 200):\n",
        "    rfc = RandomForestClassifier(n_estimators=k)\n",
        "    rfc.fit(X_train, y_train)\n",
        "    y_predrf = rfc.predict(X_test)\n",
        "    scoresrf.append(accuracy_score(y_test, y_predrf))\n",
        "import matplotlib.pyplot as plt\n",
        "%matplotlib inline\n",
        "plt.plot(range(1, 200), scoresrf)\n",
        "plt.xlabel('Value of n_estimators for Random Forest Classifier')\n",
        "plt.ylabel('Testing Accuracy')"
      ],
      "execution_count": null,
      "outputs": [
        {
          "output_type": "execute_result",
          "data": {
            "text/plain": [
              "Text(0, 0.5, 'Testing Accuracy')"
            ]
          },
          "metadata": {
            "tags": []
          },
          "execution_count": 45
        },
        {
          "output_type": "display_data",
          "data": {
            "image/png": "[encoded data removed]",
            "text/plain": [
              "<Figure size 432x288 with 1 Axes>"
            ]
          },
          "metadata": {
            "tags": [],
            "needs_background": "light"
          }
        }
      ]
    },
    {
      "cell_type": "code",
      "metadata": {
        "colab": {
          "base_uri": "https://localhost:8080/"
        },
        "id": "CTEPghqfADvU",
        "outputId": "ef8e893d-a541-4c10-bfaf-387a3a74a692"
      },
      "source": [
        "#Random Forest model\n",
        "model_rf = RandomForestClassifier(n_estimators=132, max_features= 6, random_state=42)\n",
        "model_rf.fit(X_train, y_train)\n",
        "predict_rf = model_rf.predict(X_test)\n",
        "accuracy_rf = accuracy_score(y_test, predict_rf)\n",
        "print(\"Accuracy:\", accuracy_rf)\n",
        "#cross-validation\n",
        "rfcv = cross_val_score(model_rf, X, y, scoring='accuracy', cv=10)\n",
        "rfcv = pd.Series(rfcv)\n",
        "print(\"Cross-validation: \", rfcv.mean())"
      ],
      "execution_count": null,
      "outputs": [
        {
          "output_type": "stream",
          "text": [
            "Accuracy: 0.9479495268138801\n",
            "Cross-validation:  0.9403961369936511\n"
          ],
          "name": "stdout"
        }
      ]
    },
    {
      "cell_type": "code",
      "metadata": {
        "colab": {
          "base_uri": "https://localhost:8080/",
          "height": 282
        },
        "id": "1A4LHtibWSK6",
        "outputId": "7a98f3ce-0b82-4266-eb6f-4e2ce3dd656d"
      },
      "source": [
        "#Random forest feature importance\n",
        "feat_importances = pd.Series(model_rf.feature_importances_, index=X.columns)\n",
        "feat_importances.nlargest(20).plot(kind='barh', )"
      ],
      "execution_count": null,
      "outputs": [
        {
          "output_type": "execute_result",
          "data": {
            "text/plain": [
              "<matplotlib.axes._subplots.AxesSubplot at 0x7f77a10bc7d0>"
            ]
          },
          "metadata": {
            "tags": []
          },
          "execution_count": 53
        },
        {
          "output_type": "display_data",
          "data": {
            "image/png": "[encoded data removed]",
            "text/plain": [
              "<Figure size 432x288 with 1 Axes>"
            ]
          },
          "metadata": {
            "tags": [],
            "needs_background": "light"
          }
        }
      ]
    },
    {
      "cell_type": "code",
      "metadata": {
        "colab": {
          "base_uri": "https://localhost:8080/"
        },
        "id": "xZICRZnZAKGf",
        "outputId": "424045b7-a7a8-4303-d9f9-516b50499bca"
      },
      "source": [
        "# Top 3 features for RandomForest\n",
        "rimp=pd.DataFrame(zip(X_train.columns, model_rf.feature_importances_))\n",
        "rfimp = (rimp.sort_values(1, ascending = False))\n",
        "print(\"Three most important features: \\n\", rfimp.iloc[:3])"
      ],
      "execution_count": null,
      "outputs": [
        {
          "output_type": "stream",
          "text": [
            "Three most important features: \n",
            "                 0         1\n",
            "1             Age  0.166656\n",
            "3  family_history  0.126444\n",
            "2          Height  0.106609\n"
          ],
          "name": "stdout"
        }
      ]
    },
    {
      "cell_type": "code",
      "metadata": {
        "colab": {
          "base_uri": "https://localhost:8080/"
        },
        "id": "NFqdvreYZpLw",
        "outputId": "26ce0a11-21a6-4c9c-e66b-1091916764c6"
      },
      "source": [
        "#oob score\n",
        "model_rf_oob = RandomForestClassifier(n_estimators=132, max_features=6, oob_score=True, random_state=42).fit(X_train, y_train)\n",
        "oob_score = round(model_rf_oob.oob_score_,4)\n",
        "acc_oob = round(accuracy_score(y_test, model_rf_oob.predict(X_test)),4)\n",
        "diff_oob = round(abs(oob_score - acc_oob),4)\n",
        "\n",
        "print('OOB Score:\\t\\t\\t', oob_score)\n",
        "print('Testing Accuracy:\\t\\t', acc_oob)\n",
        "print('Acc. Difference:\\t\\t', diff_oob)"
      ],
      "execution_count": null,
      "outputs": [
        {
          "output_type": "stream",
          "text": [
            "OOB Score:\t\t\t 0.9485\n",
            "Testing Accuracy:\t\t 0.9479\n",
            "Acc. Difference:\t\t 0.0006\n"
          ],
          "name": "stdout"
        }
      ]
    },
    {
      "cell_type": "markdown",
      "metadata": {
        "id": "vOAmhMDjkN5C"
      },
      "source": [
        "Model #4: AdaBooster Classifier"
      ]
    },
    {
      "cell_type": "code",
      "metadata": {
        "colab": {
          "base_uri": "https://localhost:8080/",
          "height": 300
        },
        "id": "MwhLVB_zhWE_",
        "outputId": "e509825d-b960-4e45-cc40-1c12fe963862"
      },
      "source": [
        "#adaboost n_estimator and testing accuracy\n",
        "scoresada =[]\n",
        "for k in range(1, 200):\n",
        "    adac = AdaBoostClassifier(n_estimators=k)\n",
        "    adac.fit(X_train, y_train)\n",
        "    y_predada = adac.predict(X_test)\n",
        "    scoresada.append(accuracy_score(y_test, y_predada))\n",
        "import matplotlib.pyplot as plt\n",
        "%matplotlib inline\n",
        "plt.plot(range(1, 200), scoresada)\n",
        "plt.xlabel('Value of n_estimators for AdaBoost Classifier')\n",
        "plt.ylabel('Testing Accuracy')"
      ],
      "execution_count": null,
      "outputs": [
        {
          "output_type": "execute_result",
          "data": {
            "text/plain": [
              "Text(0, 0.5, 'Testing Accuracy')"
            ]
          },
          "metadata": {
            "tags": []
          },
          "execution_count": 61
        },
        {
          "output_type": "display_data",
          "data": {
            "image/png": "[encoded data removed]",
            "text/plain": [
              "<Figure size 432x288 with 1 Axes>"
            ]
          },
          "metadata": {
            "tags": [],
            "needs_background": "light"
          }
        }
      ]
    },
    {
      "cell_type": "code",
      "metadata": {
        "colab": {
          "base_uri": "https://localhost:8080/"
        },
        "id": "MMUNUqPfANDr",
        "outputId": "e68a1a91-2b21-4799-d146-3ff68cd8ca42"
      },
      "source": [
        "# AdaBoost Classification\n",
        "base_est2 = DecisionTreeClassifier(max_depth = 7)\n",
        "ada_boost = AdaBoostClassifier(base_est2, n_estimators=55, random_state=42, learning_rate=0.5)\n",
        "ada_boost.fit(X_train, y_train)\n",
        "predict_bs = ada_boost.predict(X_test)\n",
        "accuracy_bs = accuracy_score(y_test, predict_bs)\n",
        "print(\"Accuracy: \", accuracy_bs)\n",
        "\n",
        "#cross-validation\n",
        "adacv = cross_val_score(ada_boost, X, y, scoring='accuracy', cv=10)\n",
        "adacv = pd.Series(adacv)\n",
        "print(\"Cross validation: \", adacv.mean())"
      ],
      "execution_count": null,
      "outputs": [
        {
          "output_type": "stream",
          "text": [
            "Accuracy:  0.9511041009463722\n",
            "Cross validation:  0.9422762228382366\n"
          ],
          "name": "stdout"
        }
      ]
    },
    {
      "cell_type": "code",
      "metadata": {
        "colab": {
          "base_uri": "https://localhost:8080/",
          "height": 282
        },
        "id": "nD4OxwtNceaf",
        "outputId": "5fe7a3a0-4257-4607-f969-8f455f73e13b"
      },
      "source": [
        "#AdaBoost feature importance\n",
        "ada_importances = pd.Series(ada_boost.feature_importances_, index=X.columns)\n",
        "ada_importances.nlargest(20).plot(kind='barh')"
      ],
      "execution_count": null,
      "outputs": [
        {
          "output_type": "execute_result",
          "data": {
            "text/plain": [
              "<matplotlib.axes._subplots.AxesSubplot at 0x7f77a0fdd9d0>"
            ]
          },
          "metadata": {
            "tags": []
          },
          "execution_count": 86
        },
        {
          "output_type": "display_data",
          "data": {
            "image/png": "[encoded data removed]",
            "text/plain": [
              "<Figure size 432x288 with 1 Axes>"
            ]
          },
          "metadata": {
            "tags": [],
            "needs_background": "light"
          }
        }
      ]
    },
    {
      "cell_type": "code",
      "metadata": {
        "colab": {
          "base_uri": "https://localhost:8080/"
        },
        "id": "edW5j9KZAQnr",
        "outputId": "d6c00a44-46c6-4bbc-8201-3a39363f61af"
      },
      "source": [
        "# Top 3 features for AdaBoost\n",
        "aimp=pd.DataFrame(zip(X_train.columns, ada_boost\n",
        "                     .feature_importances_))\n",
        "adimp = (aimp.sort_values(1, ascending = False))\n",
        "print(\"Three most important features: \\n\", adimp.iloc[:3])"
      ],
      "execution_count": null,
      "outputs": [
        {
          "output_type": "stream",
          "text": [
            "Three most important features: \n",
            "          0         1\n",
            "1      Age  0.244888\n",
            "2   Height  0.157121\n",
            "11     PAF  0.144009\n"
          ],
          "name": "stdout"
        }
      ]
    },
    {
      "cell_type": "markdown",
      "metadata": {
        "id": "59SGlvUjkxna"
      },
      "source": [
        "Model #5: Gradient Boosting Classifier"
      ]
    },
    {
      "cell_type": "code",
      "metadata": {
        "colab": {
          "base_uri": "https://localhost:8080/",
          "height": 296
        },
        "id": "sWJXJUhzvild",
        "outputId": "87bad953-e4e6-49eb-c9c1-f06e94e57de4"
      },
      "source": [
        "#gradient boosting n_estimator and testing accuracy\n",
        "scoresgbc =[]\n",
        "for k in range(1, 200):\n",
        "    gbc = GradientBoostingClassifier(n_estimators=k)\n",
        "    gbc.fit(X_train, y_train)\n",
        "    y_predgbc = gbc.predict(X_test)\n",
        "    scoresgbc.append(accuracy_score(y_test, y_predgbc))\n",
        "import matplotlib.pyplot as plt\n",
        "%matplotlib inline\n",
        "plt.plot(range(1, 200), scoresgbc)\n",
        "plt.xlabel('Value of n_estimators for Gradient Boosting Classifier')\n",
        "plt.ylabel('Testing Accuracy')"
      ],
      "execution_count": null,
      "outputs": [
        {
          "output_type": "execute_result",
          "data": {
            "text/plain": [
              "Text(0, 0.5, 'Testing Accuracy')"
            ]
          },
          "metadata": {
            "tags": []
          },
          "execution_count": 94
        },
        {
          "output_type": "display_data",
          "data": {
            "image/png": "[encoded data removed]",
            "text/plain": [
              "<Figure size 432x288 with 1 Axes>"
            ]
          },
          "metadata": {
            "tags": [],
            "needs_background": "light"
          }
        }
      ]
    },
    {
      "cell_type": "code",
      "metadata": {
        "colab": {
          "base_uri": "https://localhost:8080/"
        },
        "id": "yOAbujNtvRDW",
        "outputId": "c80bc0a4-cf9a-473b-9fae-7f5070aab558"
      },
      "source": [
        "#Gradient Boosting\n",
        "from sklearn.ensemble import GradientBoostingClassifier\n",
        "gbc = GradientBoostingClassifier(n_estimators = 170, random_state=42, max_depth = 8,learning_rate = 0.78).fit(X_train, y_train)\n",
        "gbc_pred = gbc.predict(X_test)\n",
        "accuracy_gbc = accuracy_score(y_test, gbc_pred)\n",
        "print(\"Accuracy:\", accuracy_gbc)\n",
        "\n",
        "#cross-validation\n",
        "gbccv = cross_val_score(gbc, X, y, scoring='accuracy', cv=10)\n",
        "gbccv = pd.Series(gbccv)\n",
        "print(\"Cross-validation: \", gbccv.mean())"
      ],
      "execution_count": null,
      "outputs": [
        {
          "output_type": "stream",
          "text": [
            "Accuracy: 0.9400630914826499\n",
            "Cross-validation:  0.9323415004918179\n"
          ],
          "name": "stdout"
        }
      ]
    },
    {
      "cell_type": "code",
      "metadata": {
        "colab": {
          "base_uri": "https://localhost:8080/",
          "height": 282
        },
        "id": "3OVtWTtO00e5",
        "outputId": "349ffb1e-c901-4cbd-fb44-d8fde6773b8d"
      },
      "source": [
        "#Gradient Boost feature importance\n",
        "gbc_importances = pd.Series(gbc.feature_importances_, index=X.columns)\n",
        "gbc_importances.nlargest(20).plot(kind='barh')"
      ],
      "execution_count": null,
      "outputs": [
        {
          "output_type": "execute_result",
          "data": {
            "text/plain": [
              "<matplotlib.axes._subplots.AxesSubplot at 0x7f77a0d6e090>"
            ]
          },
          "metadata": {
            "tags": []
          },
          "execution_count": 122
        },
        {
          "output_type": "display_data",
          "data": {
            "image/png": "[encoded data removed]",
            "text/plain": [
              "<Figure size 432x288 with 1 Axes>"
            ]
          },
          "metadata": {
            "tags": [],
            "needs_background": "light"
          }
        }
      ]
    },
    {
      "cell_type": "code",
      "metadata": {
        "colab": {
          "base_uri": "https://localhost:8080/"
        },
        "id": "dzA_XtEM08PC",
        "outputId": "84be9d44-93e0-47f3-efb8-01eae98b5f42"
      },
      "source": [
        "# Top 3 features for Gradient Boosting\n",
        "gimp=pd.DataFrame(zip(X_train.columns,gbc\n",
        "                     .feature_importances_))\n",
        "gbimp = (gimp.sort_values(1, ascending = False))\n",
        "print(\"Three most important features: \\n\", gbimp.iloc[:3])"
      ],
      "execution_count": null,
      "outputs": [
        {
          "output_type": "stream",
          "text": [
            "Three most important features: \n",
            "                 0         1\n",
            "3  family_history  0.168293\n",
            "1             Age  0.164423\n",
            "6             NMM  0.146965\n"
          ],
          "name": "stdout"
        }
      ]
    },
    {
      "cell_type": "markdown",
      "metadata": {
        "id": "1v5OWC5Rk1J_"
      },
      "source": [
        "Voting Classifier"
      ]
    },
    {
      "cell_type": "code",
      "metadata": {
        "colab": {
          "base_uri": "https://localhost:8080/"
        },
        "id": "ijyx6VQPuGqi",
        "outputId": "1daaddf6-367f-4fab-d186-24e0e591e222"
      },
      "source": [
        "#Voting Classifier\n",
        "rfClf = RandomForestClassifier(n_estimators=132, max_features= 6, random_state=42)\n",
        "baClf = BaggingClassifier(base_est1,n_estimators = 79, random_state = 42)\n",
        "gbClf = GradientBoostingClassifier(n_estimators = 170, random_state=42, max_depth = 8,learning_rate = 0.78).fit(X_train, y_train)\n",
        "adaClf = AdaBoostClassifier(base_est2, n_estimators=55, random_state=42, learning_rate=0.5)\n",
        "vclf = VotingClassifier(estimators = [('rf',rfClf), ('ba', baClf), ('gbc',gbClf), ('ada', adaClf)], voting='soft') \n",
        "vclf.fit(X_train, y_train)\n",
        "vclf_pred = vclf.predict(X_test)\n",
        "accuracy_voting = accuracy_score(y_test, vclf_pred)\n",
        "print('Accuracy score', accuracy_voting)\n",
        "#cross-validation\n",
        "vcv = cross_val_score(vclf, X, y, scoring='accuracy', cv=10)\n",
        "vcv = pd.Series(vcv)\n",
        "print(\"Cross-validation: \", vcv.mean())"
      ],
      "execution_count": null,
      "outputs": [
        {
          "output_type": "stream",
          "text": [
            "Accuracy score 0.9526813880126183\n",
            "Cross-validation:  0.9446548332290083\n"
          ],
          "name": "stdout"
        }
      ]
    }
  ]
}